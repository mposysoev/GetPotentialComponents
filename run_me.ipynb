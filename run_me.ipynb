{
 "cells": [
  {
   "cell_type": "markdown",
   "metadata": {},
   "source": [
    "# Get Potential Components"
   ]
  },
  {
   "cell_type": "code",
   "execution_count": null,
   "metadata": {},
   "outputs": [],
   "source": [
    "include(\"src/GetPotentialComponents.jl\")\n",
    "using .GetPotentialComponents\n",
    "\n",
    "using Plots\n",
    "using DelimitedFiles"
   ]
  },
  {
   "cell_type": "markdown",
   "metadata": {},
   "source": [
    "Firstly, you should setup configuration of symmetry functions that was used during training process\n",
    "\n",
    "`G2(eta, rcutoff, rshift)`"
   ]
  },
  {
   "cell_type": "code",
   "execution_count": null,
   "metadata": {},
   "outputs": [],
   "source": [
    "const G2_FUNCTIONS_LIST = [G2(0.125, 7.0, 0.00),\n",
    "                           G2(4.000, 7.0, 3.00),\n",
    "                           G2(4.000, 7.0, 3.50),\n",
    "                           G2(4.000, 7.0, 4.00),\n",
    "                           G2(4.000, 7.0, 4.50),\n",
    "                           G2(4.000, 7.0, 5.00),\n",
    "                           G2(4.000, 7.0, 5.50),\n",
    "                           G2(4.000, 7.0, 6.00),\n",
    "                           G2(4.000, 7.0, 6.50)]"
   ]
  },
  {
   "cell_type": "markdown",
   "metadata": {},
   "source": [
    "Now you need to set up other parameters:\n",
    "\n",
    "- `component_type`: it could be `pair`, `3body`, `diff`. \n",
    "- `model_file`: here you should specify the path to the neural network file in BSON format.\n",
    "- `output_file`: this is the name of the file where the results of the calculation will be saved.\n",
    "- `r_max`: this is the size of the frame in Å. The scanning particle at the start of scanning will be placed in the position with coordinates $(X, Y) = (-r_{max}, r_{max})$ (it's the top left corner). The final position of the scanning will be the symmetrical bottom right corner.\n",
    "- `step_size`: this is the frequency of calculation, determining how often we calculate values. The smaller the `step_size` , the better the pictures, but the slower the calculation.\n",
    "- `separation`: this is the distance between two particles in the system with 3 particles (two main and one scanning)."
   ]
  },
  {
   "cell_type": "code",
   "execution_count": null,
   "metadata": {},
   "outputs": [],
   "source": [
    "component_type = \"pair\"  # pair / 3body / diff\n",
    "model_file = \"example-methanol-model.bson\"\n",
    "output_file = \"$(component_type)-component-results.txt\"\n",
    "r_max = 8.0  # in Å\n",
    "step_size = 0.05  # in Å\n",
    "separation = 2.5;  # in Å ONLY for 3body"
   ]
  },
  {
   "cell_type": "markdown",
   "metadata": {},
   "source": [
    "## Pair Component"
   ]
  },
  {
   "cell_type": "code",
   "execution_count": null,
   "metadata": {},
   "outputs": [],
   "source": [
    "component_type = \"pair\"  # pair / 3body / diff\n",
    "output_file = \"$(component_type)-component-results.txt\"\n",
    "GetPotentialComponents.main(component_type, model_file, output_file, r_max, step_size, G2_FUNCTIONS_LIST, separation)"
   ]
  },
  {
   "cell_type": "code",
   "execution_count": null,
   "metadata": {},
   "outputs": [],
   "source": [
    "filename = \"pair-component-results.txt\"  # Change for you file\n",
    "data = readdlm(filename, Float64, skipstart=2)\n",
    "r = data[:, 1]\n",
    "U = data[:, 2];"
   ]
  },
  {
   "cell_type": "code",
   "execution_count": null,
   "metadata": {},
   "outputs": [],
   "source": [
    "p = plot(r, U,\n",
    "    xlabel=\"r [Å]\", ylabel=\"U(r)\",\n",
    "    title=\"Pair potential component\",\n",
    "    ylim=(-0.5, 5),  # change for your scale\n",
    "    legend=false,\n",
    "    size=(800, 600))\n",
    "\n",
    "savefig(p, \"pair-potential-component-plot.png\")\n",
    "display(p)"
   ]
  },
  {
   "cell_type": "markdown",
   "metadata": {},
   "source": [
    "## 3body potential"
   ]
  },
  {
   "cell_type": "code",
   "execution_count": null,
   "metadata": {},
   "outputs": [],
   "source": [
    "component_type = \"3body\"  # pair / 3body / diff\n",
    "output_file = \"$(component_type)-component-results.txt\"\n",
    "GetPotentialComponents.main(component_type, model_file, output_file, r_max, step_size, G2_FUNCTIONS_LIST, separation)"
   ]
  },
  {
   "cell_type": "code",
   "execution_count": null,
   "metadata": {},
   "outputs": [],
   "source": [
    "filename = \"3body-component-results.txt\"  # Change for you file\n",
    "data = readdlm(filename, ',', skipstart = 3)\n",
    "\n",
    "X = data[:, 1]\n",
    "Y = data[:, 2]\n",
    "U = data[:, 3]\n",
    "\n",
    "unique_X = sort(unique(X))\n",
    "unique_Y = sort(unique(Y))\n",
    "\n",
    "heatmap_data = zeros(length(unique_Y), length(unique_X))\n",
    "\n",
    "for i in 1:length(X)\n",
    "    x_idx = findfirst(isequal(X[i]), unique_X)\n",
    "    y_idx = findfirst(isequal(Y[i]), unique_Y)\n",
    "    heatmap_data[y_idx, x_idx] = U[i]\n",
    "end"
   ]
  },
  {
   "cell_type": "code",
   "execution_count": null,
   "metadata": {},
   "outputs": [],
   "source": [
    "p = heatmap(unique_X, unique_Y,\n",
    "    heatmap_data,\n",
    "    xlabel = \"X\", ylabel = \"Y\", colorbar_title = \"U(r)\",\n",
    "    title = \"U(r)\",\n",
    "    color = :Reds,\n",
    "    aspect_ratio = 1, size = (800, 600),\n",
    "    ylim = (minimum(unique_Y), maximum(unique_Y)),\n",
    "    xlim = (minimum(unique_X), maximum(unique_X)))\n",
    "\n",
    "savefig(p, \"3body-potential-plot.png\")\n",
    "display(p)"
   ]
  },
  {
   "cell_type": "markdown",
   "metadata": {},
   "source": [
    "## 3body component"
   ]
  },
  {
   "cell_type": "code",
   "execution_count": null,
   "metadata": {},
   "outputs": [],
   "source": [
    "component_type = \"diff\"  # pair / 3body / diff\n",
    "output_file = \"$(component_type)-component-results.txt\"\n",
    "GetPotentialComponents.main(component_type, model_file, output_file, r_max, step_size, G2_FUNCTIONS_LIST, separation)"
   ]
  },
  {
   "cell_type": "code",
   "execution_count": null,
   "metadata": {},
   "outputs": [],
   "source": [
    "filename = \"diff-component-results.txt\"  # Change for you file\n",
    "data = readdlm(filename, ',', skipstart = 3)\n",
    "\n",
    "X = data[:, 1]\n",
    "Y = data[:, 2]\n",
    "U = data[:, 3]\n",
    "\n",
    "unique_X = sort(unique(X))\n",
    "unique_Y = sort(unique(Y))\n",
    "\n",
    "heatmap_data = zeros(length(unique_Y), length(unique_X))\n",
    "\n",
    "for i in 1:length(X)\n",
    "    x_idx = findfirst(isequal(X[i]), unique_X)\n",
    "    y_idx = findfirst(isequal(Y[i]), unique_Y)\n",
    "    heatmap_data[y_idx, x_idx] = U[i]\n",
    "end\n"
   ]
  },
  {
   "cell_type": "code",
   "execution_count": null,
   "metadata": {},
   "outputs": [],
   "source": [
    "p = heatmap(unique_X, unique_Y,\n",
    "    heatmap_data,\n",
    "    xlabel = \"X\", ylabel = \"Y\", colorbar_title = \"U(r)\",\n",
    "    title = \"U(r)\",\n",
    "    color = :Reds,\n",
    "    aspect_ratio = 1, size = (800, 600),\n",
    "    ylim = (minimum(unique_Y), maximum(unique_Y)),\n",
    "    xlim = (minimum(unique_X), maximum(unique_X)))\n",
    "\n",
    "savefig(p, \"diff-component-plot.png\")\n",
    "display(p)"
   ]
  },
  {
   "cell_type": "code",
   "execution_count": null,
   "metadata": {},
   "outputs": [],
   "source": []
  }
 ],
 "metadata": {
  "kernelspec": {
   "display_name": "Julia 1.10.4",
   "language": "julia",
   "name": "julia-1.10"
  },
  "language_info": {
   "file_extension": ".jl",
   "mimetype": "application/julia",
   "name": "julia",
   "version": "1.10.4"
  }
 },
 "nbformat": 4,
 "nbformat_minor": 2
}
